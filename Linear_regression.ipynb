{
 "cells": [
  {
   "cell_type": "code",
   "execution_count": 1,
   "metadata": {},
   "outputs": [],
   "source": [
    "from __future__ import print_function\n",
    "import findspark\n",
    "findspark.init()\n",
    "findspark.find()\n",
    "import pyspark\n",
    "findspark.find()\n",
    "from pyspark.sql import SparkSession\n",
    "from pyspark.ml.feature import VectorAssembler\n",
    "from pyspark.ml.regression import LinearRegression"
   ]
  },
  {
   "cell_type": "code",
   "execution_count": 2,
   "metadata": {},
   "outputs": [],
   "source": [
    "if __name__ == \"__main__\":\n",
    "    spark = SparkSession\\\n",
    "            .builder\\\n",
    "            .appName(\"LinearRegWithSpark\")\\\n",
    "            .getOrCreate()"
   ]
  },
  {
   "cell_type": "code",
   "execution_count": 3,
   "metadata": {},
   "outputs": [],
   "source": [
    "dataset = spark.read.csv(\"Admission_Prediction.csv\",header=True)"
   ]
  },
  {
   "cell_type": "code",
   "execution_count": 4,
   "metadata": {},
   "outputs": [
    {
     "name": "stdout",
     "output_type": "stream",
     "text": [
      "+---------+-----------+-----------------+----+----+----+--------+---------------+\n",
      "|GRE Score|TOEFL Score|University Rating| SOP| LOR|CGPA|Research|Chance of Admit|\n",
      "+---------+-----------+-----------------+----+----+----+--------+---------------+\n",
      "|   337.00|     118.00|                4|4.50|4.50|9.65|    1.00|           0.92|\n",
      "|   324.00|     107.00|                4|4.00|4.50|8.87|    1.00|           0.76|\n",
      "|     null|     104.00|                3|3.00|3.50|8.00|    1.00|           0.72|\n",
      "|   322.00|     110.00|                3|3.50|2.50|8.67|    1.00|           0.80|\n",
      "|   314.00|     103.00|                2|2.00|3.00|8.21|    0.00|           0.65|\n",
      "|   330.00|     115.00|                5|4.50|3.00|9.34|    1.00|           0.90|\n",
      "|   321.00|     109.00|             null|3.00|4.00|8.20|    1.00|           0.75|\n",
      "|   308.00|     101.00|                2|3.00|4.00|7.90|    0.00|           0.68|\n",
      "|   302.00|     102.00|                1|2.00|1.50|8.00|    0.00|           0.50|\n",
      "|   323.00|     108.00|                3|3.50|3.00|8.60|    0.00|           0.45|\n",
      "|   325.00|     106.00|                3|3.50|4.00|8.40|    1.00|           0.52|\n",
      "|   327.00|     111.00|                4|4.00|4.50|9.00|    1.00|           0.84|\n",
      "|     null|     112.00|                4|4.00|4.50|9.10|    1.00|           0.78|\n",
      "|   307.00|     109.00|                3|4.00|3.00|8.00|    1.00|           0.62|\n",
      "|   311.00|     104.00|                3|3.50|2.00|8.20|    1.00|           0.61|\n",
      "|   314.00|     105.00|                3|3.50|2.50|8.30|    0.00|           0.54|\n",
      "|   317.00|     107.00|                3|4.00|3.00|8.70|    0.00|           0.66|\n",
      "|   319.00|     106.00|                3|4.00|3.00|8.00|    1.00|           0.65|\n",
      "|   318.00|     110.00|                3|4.00|3.00|8.80|    0.00|           0.63|\n",
      "|   303.00|     102.00|                3|3.50|3.00|8.50|    0.00|           0.62|\n",
      "+---------+-----------+-----------------+----+----+----+--------+---------------+\n",
      "only showing top 20 rows\n",
      "\n"
     ]
    }
   ],
   "source": [
    "dataset.show()"
   ]
  },
  {
   "cell_type": "code",
   "execution_count": 5,
   "metadata": {},
   "outputs": [
    {
     "data": {
      "text/plain": [
       "pyspark.sql.dataframe.DataFrame"
      ]
     },
     "execution_count": 5,
     "metadata": {},
     "output_type": "execute_result"
    }
   ],
   "source": [
    "type(dataset)"
   ]
  },
  {
   "cell_type": "code",
   "execution_count": 6,
   "metadata": {},
   "outputs": [
    {
     "name": "stdout",
     "output_type": "stream",
     "text": [
      "root\n",
      " |-- GRE Score: string (nullable = true)\n",
      " |-- TOEFL Score: string (nullable = true)\n",
      " |-- University Rating: string (nullable = true)\n",
      " |-- SOP: string (nullable = true)\n",
      " |-- LOR: string (nullable = true)\n",
      " |-- CGPA: string (nullable = true)\n",
      " |-- Research: string (nullable = true)\n",
      " |-- Chance of Admit: string (nullable = true)\n",
      "\n"
     ]
    }
   ],
   "source": [
    "dataset.printSchema()"
   ]
  },
  {
   "cell_type": "code",
   "execution_count": 7,
   "metadata": {},
   "outputs": [],
   "source": [
    "from pyspark.sql.functions import col\n",
    "new_data = dataset.select(*(col(c).cast(\"float\").alias(c) for c in dataset.columns))"
   ]
  },
  {
   "cell_type": "code",
   "execution_count": 8,
   "metadata": {},
   "outputs": [
    {
     "name": "stdout",
     "output_type": "stream",
     "text": [
      "root\n",
      " |-- GRE Score: float (nullable = true)\n",
      " |-- TOEFL Score: float (nullable = true)\n",
      " |-- University Rating: float (nullable = true)\n",
      " |-- SOP: float (nullable = true)\n",
      " |-- LOR: float (nullable = true)\n",
      " |-- CGPA: float (nullable = true)\n",
      " |-- Research: float (nullable = true)\n",
      " |-- Chance of Admit: float (nullable = true)\n",
      "\n"
     ]
    }
   ],
   "source": [
    "new_data.printSchema()"
   ]
  },
  {
   "cell_type": "code",
   "execution_count": 9,
   "metadata": {},
   "outputs": [
    {
     "name": "stdout",
     "output_type": "stream",
     "text": [
      "+---------+-----------+-----------------+---+---+----+--------+---------------+\n",
      "|GRE Score|TOEFL Score|University Rating|SOP|LOR|CGPA|Research|Chance of Admit|\n",
      "+---------+-----------+-----------------+---+---+----+--------+---------------+\n",
      "|    337.0|      118.0|              4.0|4.5|4.5|9.65|     1.0|           0.92|\n",
      "|    324.0|      107.0|              4.0|4.0|4.5|8.87|     1.0|           0.76|\n",
      "|     null|      104.0|              3.0|3.0|3.5| 8.0|     1.0|           0.72|\n",
      "|    322.0|      110.0|              3.0|3.5|2.5|8.67|     1.0|            0.8|\n",
      "|    314.0|      103.0|              2.0|2.0|3.0|8.21|     0.0|           0.65|\n",
      "|    330.0|      115.0|              5.0|4.5|3.0|9.34|     1.0|            0.9|\n",
      "|    321.0|      109.0|             null|3.0|4.0| 8.2|     1.0|           0.75|\n",
      "|    308.0|      101.0|              2.0|3.0|4.0| 7.9|     0.0|           0.68|\n",
      "|    302.0|      102.0|              1.0|2.0|1.5| 8.0|     0.0|            0.5|\n",
      "|    323.0|      108.0|              3.0|3.5|3.0| 8.6|     0.0|           0.45|\n",
      "|    325.0|      106.0|              3.0|3.5|4.0| 8.4|     1.0|           0.52|\n",
      "|    327.0|      111.0|              4.0|4.0|4.5| 9.0|     1.0|           0.84|\n",
      "|     null|      112.0|              4.0|4.0|4.5| 9.1|     1.0|           0.78|\n",
      "|    307.0|      109.0|              3.0|4.0|3.0| 8.0|     1.0|           0.62|\n",
      "|    311.0|      104.0|              3.0|3.5|2.0| 8.2|     1.0|           0.61|\n",
      "|    314.0|      105.0|              3.0|3.5|2.5| 8.3|     0.0|           0.54|\n",
      "|    317.0|      107.0|              3.0|4.0|3.0| 8.7|     0.0|           0.66|\n",
      "|    319.0|      106.0|              3.0|4.0|3.0| 8.0|     1.0|           0.65|\n",
      "|    318.0|      110.0|              3.0|4.0|3.0| 8.8|     0.0|           0.63|\n",
      "|    303.0|      102.0|              3.0|3.5|3.0| 8.5|     0.0|           0.62|\n",
      "+---------+-----------+-----------------+---+---+----+--------+---------------+\n",
      "only showing top 20 rows\n",
      "\n"
     ]
    }
   ],
   "source": [
    "new_data.show()"
   ]
  },
  {
   "cell_type": "code",
   "execution_count": 10,
   "metadata": {},
   "outputs": [],
   "source": [
    "from pyspark.sql.functions import col,count,isnan,when"
   ]
  },
  {
   "cell_type": "code",
   "execution_count": 11,
   "metadata": {},
   "outputs": [
    {
     "name": "stdout",
     "output_type": "stream",
     "text": [
      "+---------+-----------+-----------------+---+---+----+--------+---------------+\n",
      "|GRE Score|TOEFL Score|University Rating|SOP|LOR|CGPA|Research|Chance of Admit|\n",
      "+---------+-----------+-----------------+---+---+----+--------+---------------+\n",
      "|       15|         10|               15|  0|  0|   0|       0|              0|\n",
      "+---------+-----------+-----------------+---+---+----+--------+---------------+\n",
      "\n"
     ]
    }
   ],
   "source": [
    "new_data.select([count(when(col(c).isNull(), c)).alias(c) for c in new_data.columns]).show()"
   ]
  },
  {
   "cell_type": "code",
   "execution_count": 12,
   "metadata": {},
   "outputs": [],
   "source": [
    "from pyspark.ml.feature import Imputer"
   ]
  },
  {
   "cell_type": "code",
   "execution_count": 13,
   "metadata": {},
   "outputs": [],
   "source": [
    "imputer = Imputer(inputCols=[\"GRE Score\",\"TOEFL Score\",\"University Rating\"],\n",
    "                 outputCols=[\"GRE Score\",\"TOEFL Score\",\"University Rating\"])\n",
    "model = imputer.fit(new_data)\n",
    "\n",
    "imputed_data = model.transform(new_data)"
   ]
  },
  {
   "cell_type": "code",
   "execution_count": 14,
   "metadata": {},
   "outputs": [
    {
     "name": "stdout",
     "output_type": "stream",
     "text": [
      "+---------+-----------+-----------------+---+---+----+--------+---------------+\n",
      "|GRE Score|TOEFL Score|University Rating|SOP|LOR|CGPA|Research|Chance of Admit|\n",
      "+---------+-----------+-----------------+---+---+----+--------+---------------+\n",
      "|        0|          0|                0|  0|  0|   0|       0|              0|\n",
      "+---------+-----------+-----------------+---+---+----+--------+---------------+\n",
      "\n"
     ]
    }
   ],
   "source": [
    "#checking for null ir nan type values in our columns\n",
    "imputed_data.select([count(when(col(c).isNull(), c)).alias(c) for c in imputed_data.columns]).show()"
   ]
  },
  {
   "cell_type": "code",
   "execution_count": 15,
   "metadata": {},
   "outputs": [],
   "source": [
    "features = imputed_data.drop('Chance of Admit')"
   ]
  },
  {
   "cell_type": "code",
   "execution_count": 16,
   "metadata": {},
   "outputs": [],
   "source": [
    "#lets assemble our features together using vector assembler\n",
    "assembler = VectorAssembler(\n",
    "            inputCols=features.columns,\n",
    "            outputCol=\"features\")"
   ]
  },
  {
   "cell_type": "code",
   "execution_count": 17,
   "metadata": {},
   "outputs": [],
   "source": [
    "output = assembler.transform(imputed_data)"
   ]
  },
  {
   "cell_type": "code",
   "execution_count": 18,
   "metadata": {},
   "outputs": [
    {
     "name": "stdout",
     "output_type": "stream",
     "text": [
      "+---------+-----------+-----------------+---+---+----+--------+---------------+--------------------+\n",
      "|GRE Score|TOEFL Score|University Rating|SOP|LOR|CGPA|Research|Chance of Admit|            features|\n",
      "+---------+-----------+-----------------+---+---+----+--------+---------------+--------------------+\n",
      "|    337.0|      118.0|              4.0|4.5|4.5|9.65|     1.0|           0.92|[337.0,118.0,4.0,...|\n",
      "|    324.0|      107.0|              4.0|4.0|4.5|8.87|     1.0|           0.76|[324.0,107.0,4.0,...|\n",
      "|316.55878|      104.0|              3.0|3.0|3.5| 8.0|     1.0|           0.72|[316.558776855468...|\n",
      "|    322.0|      110.0|              3.0|3.5|2.5|8.67|     1.0|            0.8|[322.0,110.0,3.0,...|\n",
      "|    314.0|      103.0|              2.0|2.0|3.0|8.21|     0.0|           0.65|[314.0,103.0,2.0,...|\n",
      "|    330.0|      115.0|              5.0|4.5|3.0|9.34|     1.0|            0.9|[330.0,115.0,5.0,...|\n",
      "|    321.0|      109.0|        3.1216495|3.0|4.0| 8.2|     1.0|           0.75|[321.0,109.0,3.12...|\n",
      "|    308.0|      101.0|              2.0|3.0|4.0| 7.9|     0.0|           0.68|[308.0,101.0,2.0,...|\n",
      "|    302.0|      102.0|              1.0|2.0|1.5| 8.0|     0.0|            0.5|[302.0,102.0,1.0,...|\n",
      "|    323.0|      108.0|              3.0|3.5|3.0| 8.6|     0.0|           0.45|[323.0,108.0,3.0,...|\n",
      "|    325.0|      106.0|              3.0|3.5|4.0| 8.4|     1.0|           0.52|[325.0,106.0,3.0,...|\n",
      "|    327.0|      111.0|              4.0|4.0|4.5| 9.0|     1.0|           0.84|[327.0,111.0,4.0,...|\n",
      "|316.55878|      112.0|              4.0|4.0|4.5| 9.1|     1.0|           0.78|[316.558776855468...|\n",
      "|    307.0|      109.0|              3.0|4.0|3.0| 8.0|     1.0|           0.62|[307.0,109.0,3.0,...|\n",
      "|    311.0|      104.0|              3.0|3.5|2.0| 8.2|     1.0|           0.61|[311.0,104.0,3.0,...|\n",
      "|    314.0|      105.0|              3.0|3.5|2.5| 8.3|     0.0|           0.54|[314.0,105.0,3.0,...|\n",
      "|    317.0|      107.0|              3.0|4.0|3.0| 8.7|     0.0|           0.66|[317.0,107.0,3.0,...|\n",
      "|    319.0|      106.0|              3.0|4.0|3.0| 8.0|     1.0|           0.65|[319.0,106.0,3.0,...|\n",
      "|    318.0|      110.0|              3.0|4.0|3.0| 8.8|     0.0|           0.63|[318.0,110.0,3.0,...|\n",
      "|    303.0|      102.0|              3.0|3.5|3.0| 8.5|     0.0|           0.62|[303.0,102.0,3.0,...|\n",
      "+---------+-----------+-----------------+---+---+----+--------+---------------+--------------------+\n",
      "only showing top 20 rows\n",
      "\n"
     ]
    }
   ],
   "source": [
    "output.show()"
   ]
  },
  {
   "cell_type": "code",
   "execution_count": 19,
   "metadata": {},
   "outputs": [],
   "source": [
    "output= output.select(\"features\", \"Chance of Admit\")"
   ]
  },
  {
   "cell_type": "code",
   "execution_count": 20,
   "metadata": {},
   "outputs": [],
   "source": [
    "train_df,test_df = output.randomSplit([0.7, 0.3])"
   ]
  },
  {
   "cell_type": "code",
   "execution_count": 21,
   "metadata": {},
   "outputs": [
    {
     "name": "stdout",
     "output_type": "stream",
     "text": [
      "+--------------------+---------------+\n",
      "|            features|Chance of Admit|\n",
      "+--------------------+---------------+\n",
      "|[290.0,100.0,1.0,...|           0.47|\n",
      "|[290.0,104.0,4.0,...|           0.45|\n",
      "|[293.0,97.0,2.0,2...|           0.64|\n",
      "|[294.0,93.0,1.0,1...|           0.46|\n",
      "|[294.0,95.0,1.0,1...|           0.49|\n",
      "|[295.0,99.0,1.0,2...|           0.37|\n",
      "|[295.0,99.0,2.0,2...|           0.57|\n",
      "|[295.0,101.0,2.0,...|           0.69|\n",
      "|[296.0,95.0,2.0,3...|           0.44|\n",
      "|[296.0,97.0,2.0,1...|           0.49|\n",
      "|[296.0,99.0,2.0,2...|           0.61|\n",
      "|[296.0,99.0,2.0,3...|           0.47|\n",
      "|[296.0,101.0,1.0,...|            0.6|\n",
      "|[297.0,96.0,2.0,2...|           0.43|\n",
      "|[297.0,96.0,2.0,2...|           0.34|\n",
      "|[297.0,98.0,2.0,2...|           0.59|\n",
      "|[297.0,99.0,4.0,3...|           0.54|\n",
      "|[297.0,100.0,1.0,...|           0.52|\n",
      "|[297.0,101.0,3.0,...|           0.57|\n",
      "|[298.0,92.0,1.0,2...|           0.51|\n",
      "+--------------------+---------------+\n",
      "only showing top 20 rows\n",
      "\n",
      "+--------------------+---------------+\n",
      "|            features|Chance of Admit|\n",
      "+--------------------+---------------+\n",
      "|[295.0,93.0,1.0,2...|           0.46|\n",
      "|[295.0,96.0,2.0,1...|           0.47|\n",
      "|[298.0,97.0,3.121...|           0.45|\n",
      "|[298.0,100.0,3.0,...|           0.58|\n",
      "|[298.0,101.0,4.0,...|           0.53|\n",
      "|[298.0,105.0,3.0,...|           0.69|\n",
      "|[298.0,107.187751...|           0.46|\n",
      "|[299.0,96.0,2.0,1...|           0.54|\n",
      "|[299.0,100.0,1.0,...|           0.59|\n",
      "|[299.0,100.0,3.0,...|           0.42|\n",
      "|[299.0,102.0,3.0,...|           0.56|\n",
      "|[300.0,97.0,2.0,3...|           0.65|\n",
      "|[300.0,99.0,1.0,1...|           0.58|\n",
      "|[300.0,100.0,3.12...|           0.62|\n",
      "|[300.0,101.0,3.0,...|           0.59|\n",
      "|[301.0,99.0,2.0,3...|           0.64|\n",
      "|[301.0,100.0,3.0,...|           0.67|\n",
      "|[302.0,99.0,1.0,2...|           0.57|\n",
      "|[302.0,102.0,1.0,...|            0.5|\n",
      "|[303.0,98.0,1.0,2...|           0.56|\n",
      "+--------------------+---------------+\n",
      "only showing top 20 rows\n",
      "\n"
     ]
    }
   ],
   "source": [
    "train_df.show()\n",
    "test_df.show()"
   ]
  },
  {
   "cell_type": "code",
   "execution_count": 22,
   "metadata": {},
   "outputs": [],
   "source": [
    "lin_reg = LinearRegression(featuresCol = 'features', labelCol='Chance of Admit')\n",
    "linear_model = lin_reg.fit(train_df)"
   ]
  },
  {
   "cell_type": "code",
   "execution_count": 23,
   "metadata": {},
   "outputs": [
    {
     "name": "stdout",
     "output_type": "stream",
     "text": [
      "Coefficients: [0.0012247198428869356,0.0024620283745980668,0.007568789666640603,0.0009036849614507058,0.02131677944128885,0.12685539346014768,0.02596656201534931]\n",
      "Intercept: -1.1333216723413488\n"
     ]
    }
   ],
   "source": [
    "print(\"Coefficients: \" + str(linear_model.coefficients))\n",
    "print(\"Intercept: \" + str(linear_model.intercept))"
   ]
  },
  {
   "cell_type": "code",
   "execution_count": 24,
   "metadata": {},
   "outputs": [
    {
     "name": "stdout",
     "output_type": "stream",
     "text": [
      "RMSE: 0.058826\n",
      "r2: 0.832270\n"
     ]
    }
   ],
   "source": [
    "trainSummary = linear_model.summary\n",
    "print(\"RMSE: %f\" % trainSummary.rootMeanSquaredError)\n",
    "print(\"r2: %f\" % trainSummary.r2)"
   ]
  },
  {
   "cell_type": "code",
   "execution_count": 25,
   "metadata": {},
   "outputs": [
    {
     "name": "stdout",
     "output_type": "stream",
     "text": [
      "+-------------------+---------------+--------------------+\n",
      "|         prediction|Chance of Admit|            features|\n",
      "+-------------------+---------------+--------------------+\n",
      "|0.42230784733735427|           0.46|[295.0,93.0,1.0,2...|\n",
      "|0.45457067828382725|           0.47|[295.0,96.0,2.0,1...|\n",
      "|0.47447380161509045|           0.45|[298.0,97.0,3.121...|\n",
      "| 0.6225472932952458|           0.58|[298.0,100.0,3.0,...|\n",
      "| 0.6102541302119606|           0.53|[298.0,101.0,4.0,...|\n",
      "| 0.6846392596124216|           0.69|[298.0,105.0,3.0,...|\n",
      "| 0.5210309833670315|           0.46|[298.0,107.187751...|\n",
      "| 0.5254343598350772|           0.54|[299.0,96.0,2.0,1...|\n",
      "| 0.5315193115965888|           0.59|[299.0,100.0,1.0,...|\n",
      "| 0.5088035045409356|           0.42|[299.0,100.0,3.0,...|\n",
      "| 0.6784197688901088|           0.56|[299.0,102.0,3.0,...|\n",
      "| 0.6082053028362817|           0.65|[300.0,97.0,2.0,3...|\n",
      "|  0.555711243491932|           0.58|[300.0,99.0,1.0,1...|\n",
      "| 0.6290695884356547|           0.62|[300.0,100.0,3.12...|\n",
      "| 0.5615408763107697|           0.59|[300.0,101.0,3.0,...|\n",
      "| 0.5822933706694968|           0.64|[301.0,99.0,2.0,3...|\n",
      "| 0.5912588010967295|           0.67|[301.0,100.0,3.0,...|\n",
      "|0.45199585035390477|           0.57|[302.0,99.0,1.0,2...|\n",
      "| 0.5438650908521652|            0.5|[302.0,102.0,1.0,...|\n",
      "| 0.5121591010247704|           0.56|[303.0,98.0,1.0,2...|\n",
      "+-------------------+---------------+--------------------+\n",
      "only showing top 20 rows\n",
      "\n"
     ]
    }
   ],
   "source": [
    "# prediction\n",
    "predictions = linear_model.transform(test_df)\n",
    "predictions.select(\"prediction\",\"Chance of Admit\",\"features\").show()"
   ]
  },
  {
   "cell_type": "code",
   "execution_count": 26,
   "metadata": {},
   "outputs": [
    {
     "name": "stdout",
     "output_type": "stream",
     "text": [
      "R Squared (R2) on test data = 0.778287\n"
     ]
    }
   ],
   "source": [
    "from pyspark.ml.evaluation import RegressionEvaluator\n",
    "pred_evaluator = RegressionEvaluator(predictionCol=\"prediction\", \\\n",
    "                 labelCol=\"Chance of Admit\",metricName=\"r2\")\n",
    "print(\"R Squared (R2) on test data = %g\" % pred_evaluator.evaluate(predictions))"
   ]
  },
  {
   "cell_type": "code",
   "execution_count": 27,
   "metadata": {},
   "outputs": [],
   "source": [
    "spark.stop()"
   ]
  },
  {
   "cell_type": "code",
   "execution_count": null,
   "metadata": {},
   "outputs": [],
   "source": []
  }
 ],
 "metadata": {
  "kernelspec": {
   "display_name": "Python 3",
   "language": "python",
   "name": "python3"
  },
  "language_info": {
   "codemirror_mode": {
    "name": "ipython",
    "version": 3
   },
   "file_extension": ".py",
   "mimetype": "text/x-python",
   "name": "python",
   "nbconvert_exporter": "python",
   "pygments_lexer": "ipython3",
   "version": "3.6.9"
  }
 },
 "nbformat": 4,
 "nbformat_minor": 4
}
